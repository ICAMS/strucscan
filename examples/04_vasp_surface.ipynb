{
 "cells": [
  {
   "cell_type": "code",
   "execution_count": 1,
   "id": "biblical-detector",
   "metadata": {},
   "outputs": [
    {
     "name": "stdout",
     "output_type": "stream",
     "text": [
      "Populating the interactive namespace from numpy and matplotlib\n"
     ]
    }
   ],
   "source": [
    "%pylab inline"
   ]
  },
  {
   "cell_type": "markdown",
   "id": "changing-harris",
   "metadata": {},
   "source": [
    "# VASP - Surface formation energy\n",
    "In this example, we want to introduce how to perform VASP calcultions using strucscan and calculate the formation energy of an example (100) fcc surface in Ni. This examples requires the two prerequisites:\n",
    "* a licensed VASP version\n",
    "* a configured resource directory including the neccessary POTCAR for Ni\n",
    "\n",
    "In the documentation it is explained how to set up the resource directory for VASP. We will also need a settings template. For this, you can stick to the default one that comes with the repository. We will perform a spin-polarised calculation with an energy cut-off of 500 eV:"
   ]
  },
  {
   "cell_type": "code",
   "execution_count": 2,
   "id": "reasonable-current",
   "metadata": {},
   "outputs": [
    {
     "name": "stdout",
     "output_type": "stream",
     "text": [
      "! ISIF and IBRION flags will be set automatically by strucscan\r\n",
      "ALGO            = Fast\r\n",
      "PREC            = Accurate\r\n",
      "EDIFF           = 1e-05\r\n",
      "NSW             = 100\r\n",
      "NELM            = 60\r\n",
      "LREAL           = .FALSE.\r\n",
      "LWAVE           = .FALSE.\r\n",
      "ISPIN           = 2\r\n",
      "LCHARG          = .FALSE.\r\n",
      "LORBIT          = 11\r\n",
      "ENCUT           = 500\r\n"
     ]
    }
   ],
   "source": [
    "! cat ../resources/engines/vasp/settings/500_SP.incar"
   ]
  },
  {
   "cell_type": "markdown",
   "id": "floral-literacy",
   "metadata": {},
   "source": [
    "## The structure\n",
    "Let's have a look at our surface structure we want to investigate:"
   ]
  },
  {
   "cell_type": "code",
   "execution_count": 3,
   "id": "typical-liberia",
   "metadata": {},
   "outputs": [
    {
     "data": {
      "image/png": "[encoded data removed]",
      "text/plain": [
       "<Figure size 432x504 with 3 Axes>"
      ]
     },
     "metadata": {
      "needs_background": "light"
     },
     "output_type": "display_data"
    }
   ],
   "source": [
    "from ase.visualize.plot import plot_atoms\n",
    "from ase import io\n",
    "\n",
    "structname = \"../structures/unaries/surfaces/fcc_110surf_12at.cfg\"\n",
    "atoms = io.read(structname, format=\"cfg\")\n",
    "\n",
    "fig, axs = plt.subplots(1, 3, figsize=(6,7))\n",
    "for ind, rotation in enumerate(['90x,90y', '90x,45y', '0x']):\n",
    "    plot_atoms(atoms, rotation=(rotation), ax=axs[ind])\n",
    "plt.show()"
   ]
  },
  {
   "cell_type": "markdown",
   "id": "continuous-mambo",
   "metadata": {},
   "source": [
    "## The `input` dictionary\n",
    "The next step is to set up the input dictionary properly. We can either start from scatch as in the precedubf example or start right-away with the pre-implemented example for vasp:"
   ]
  },
  {
   "cell_type": "code",
   "execution_count": 4,
   "id": "psychological-hazard",
   "metadata": {},
   "outputs": [
    {
     "data": {
      "text/plain": [
       "{'species': 'Ni Al_pv',\n",
       " 'engine': 'VASP 5.4',\n",
       " 'machine': 'example_vasp',\n",
       " 'ncores': '1',\n",
       " 'nnodes': '1',\n",
       " 'queuename': 'none',\n",
       " 'potential': 'PBE',\n",
       " 'properties': 'atomic',\n",
       " 'prototypes': 'L1_2',\n",
       " 'settings': '500_SP.incar',\n",
       " 'magnetic configuration': 'SP',\n",
       " 'initial magnetic moments': '2.0 0.',\n",
       " 'kdens': '0.15',\n",
       " 'kmesh': 'Monkhorst-pack',\n",
       " 'initial atvolume': 'default',\n",
       " 'verbose': False,\n",
       " 'monitor': True,\n",
       " 'submit': True,\n",
       " 'collect': False}"
      ]
     },
     "execution_count": 4,
     "metadata": {},
     "output_type": "execute_result"
    }
   ],
   "source": [
    "from strucscan.resources.inputyaml import * \n",
    "input_dict = VASP().EXAMPLE\n",
    "input_dict"
   ]
  },
  {
   "cell_type": "markdown",
   "id": "successful-allah",
   "metadata": {},
   "source": [
    "The example `input` is already configured for our example machine `vasp_example` which features no queueing system but we need to adapt some values:"
   ]
  },
  {
   "cell_type": "code",
   "execution_count": 5,
   "id": "disturbed-velvet",
   "metadata": {},
   "outputs": [
    {
     "data": {
      "text/plain": [
       "{'species': 'Ni',\n",
       " 'engine': 'VASP 5.4',\n",
       " 'machine': 'example_vasp',\n",
       " 'ncores': '1',\n",
       " 'nnodes': '1',\n",
       " 'queuename': 'none',\n",
       " 'potential': 'PBE',\n",
       " 'properties': 'atomic',\n",
       " 'prototypes': 'fcc.cfg fcc_110surf_12at.cfg',\n",
       " 'settings': '500_SP.incar',\n",
       " 'magnetic configuration': 'SP',\n",
       " 'initial magnetic moments': '2.0',\n",
       " 'kdens': '0.15',\n",
       " 'kmesh': 'Monkhorst-pack',\n",
       " 'initial atvolume': 'default',\n",
       " 'verbose': True,\n",
       " 'monitor': True,\n",
       " 'submit': True,\n",
       " 'collect': False,\n",
       " 'potentials': 'PBE'}"
      ]
     },
     "execution_count": 5,
     "metadata": {},
     "output_type": "execute_result"
    }
   ],
   "source": [
    "input_dict.update({\"species\": \"Ni\",\n",
    "                   \"potentials\": \"PBE\",\n",
    "                   \"properties\": \"atomic\",\n",
    "                   \"prototypes\": \"fcc.cfg fcc_110surf_12at.cfg\",\n",
    "                   \"initial magnetic moments\": \"2.0\",\n",
    "                   \"kdens\": \"0.15\",\n",
    "                   \"verbose\": True})\n",
    "input_dict"
   ]
  },
  {
   "cell_type": "markdown",
   "id": "official-asset",
   "metadata": {},
   "source": [
    "Please note that might want to adapt the machine `conifg.yaml` to the machine on which you are running VASP. In this example, the `config.yaml` looks as in the following:"
   ]
  },
  {
   "cell_type": "code",
   "execution_count": 6,
   "id": "personalized-better",
   "metadata": {},
   "outputs": [
    {
     "name": "stdout",
     "output_type": "stream",
     "text": [
      "{'VASP': {'serial': 'module load vasp/5.4.4\\nvasp_std\\n'},\n",
      " 'scheduler': 'noqueue',\n",
      " 'smallest queue': None}\n"
     ]
    }
   ],
   "source": [
    "from pprint import pprint\n",
    "import yaml\n",
    "with open(\"../resources/machineconfig/example_vasp/config.yaml\", \"r\") as stream:\n",
    "        config = yaml.safe_load(stream)\n",
    "pprint(config)"
   ]
  },
  {
   "cell_type": "markdown",
   "id": "hairy-validity",
   "metadata": {},
   "source": [
    "We also added `fcc.cfg` to our list of prototypes. This is our reference structure that we need to calculate the formation energy finally. Now, we can get started:\n",
    "## Running strucscan"
   ]
  },
  {
   "cell_type": "code",
   "execution_count": null,
   "id": "figured-secondary",
   "metadata": {
    "scrolled": false
   },
   "outputs": [
    {
     "name": "stdout",
     "output_type": "stream",
     "text": [
      "Data tree path:                /home/users/pietki8q/git/strucscan-master/data\n",
      "Structure repository:          /home/users/pietki8q/git/strucscan-master/structures\n",
      "Resource repository:           /home/users/pietki8q/git/strucscan-master/resources\n",
      "\n",
      "Optional key 'k points file' not provided. Default value will be used: (None)\n",
      "\n",
      "\n",
      "key:                           : your input                                         what strucscan reads                              \n",
      "----------------------------------------------------------------------------------------------------\n",
      "species                        : Ni                                                 Ni                                                \n",
      "engine                         : VASP 5.4                                           VASP 5.4                                          \n",
      "machine                        : example_vasp                                       example_vasp                                      \n",
      "ncores                         : 1                                                  1                                                 \n",
      "nnodes                         : 1                                                  1                                                 \n",
      "queuename                      : none                                               none                                              \n",
      "potential                      : PBE                                                PBE                                               \n",
      "properties                     : atomic                                             atomic                                            \n",
      "prototypes                     : fcc.cfg fcc_110surf_12at.cfg                       fcc.cfg fcc_110surf_12at.cfg                      \n",
      "settings                       : 500_SP.incar                                       500_SP.incar                                      \n",
      "magnetic configuration         : SP                                                 SP                                                \n",
      "initial magnetic moments       : 2.0                                                2.0                                               \n",
      "kdens                          : 0.15                                               0.15                                              \n",
      "kmesh                          : Monkhorst-pack                                     Monkhorst-pack                                    \n",
      "initial atvolume               : default                                            default                                           \n",
      "verbose                        : True                                               True                                              \n",
      "monitor                        : True                                               True                                              \n",
      "submit                         : True                                               True                                              \n",
      "collect                        : False                                              False                                             \n",
      "potentials                     : PBE                                                PBE                                               \n",
      "k points file                  : (not set)                                          (not set)                                         \n",
      "\n",
      ">> Initializing:\n",
      "Initialized  Ni atomic\n",
      "Initialized  Ni atomic\n",
      "Initialized  Ni atomic\n",
      "\n",
      "2 jobs in JobList:\n",
      "------------------------------------------------------------------------------------------------------------------\n",
      "  #: jobpath                                                       prototype path                                              \n",
      "------------------------------------------------------------------------------------------------------------------\n",
      "  0: VASP_5_4__500_kdens_0_150_SP_PBE/Ni/atomic__fcc_110surf_12at__Ni12  unaries/surfaces/fcc_110surf_12at.cfg                       \n",
      "  1: VASP_5_4__500_kdens_0_150_SP_PBE/Ni/atomic__fcc__Ni           unaries/bulk/fcc.cfg                                        \n",
      "\n",
      "  #: jobpath                                                      id       status   start                end                 \n",
      "------------------------------------------------------------------------------------------------------------------\n",
      "  0 VASP_5_4__500_kdens_0_150_SP_PBE/Ni/atomic__fcc_110surf_12at__Ni12 None     does not exist                                          \n",
      "  1 VASP_5_4__500_kdens_0_150_SP_PBE/Ni/atomic__fcc__Ni          None     does not exist                                          \n",
      "\n",
      "\n",
      ">> Entering loop:\n"
     ]
    }
   ],
   "source": [
    "from strucscan.core.jobmanager import JobManager\n",
    "\n",
    "JobManager(input_dict)"
   ]
  },
  {
   "cell_type": "markdown",
   "id": "greenhouse-publication",
   "metadata": {},
   "source": [
    "## Determining surface formation energy\n",
    "After finishing successfully strucscan safes the data from the calcultion in pickled dictionaries."
   ]
  },
  {
   "cell_type": "code",
   "execution_count": null,
   "id": "mexican-deputy",
   "metadata": {},
   "outputs": [],
   "source": [
    "! ls ../data/VASP_5_4__500_kdens_0_150_SP_PBE/"
   ]
  },
  {
   "cell_type": "code",
   "execution_count": null,
   "id": "failing-grenada",
   "metadata": {},
   "outputs": [],
   "source": [
    "import json\n",
    "\n",
    "with open(\"../../VASP_5_4__500_kdens_0_150_SP_PBE__Ni__output_dict.yaml\") as stream:\n",
    "    output_dict = json.load(stream)\n",
    "    stream.close()\n",
    "\n",
    "from pprint import pprint\n",
    "pprint(output_dict)"
   ]
  },
  {
   "cell_type": "markdown",
   "id": "institutional-portable",
   "metadata": {},
   "source": [
    "In order to calculate the surface formation energy, we also need to determine the surface area:\n",
    "\n",
    "$$\n",
    "\\gamma_{surf} = \\frac{E_{surf} - E_{ideal}}{2 A}\n",
    "$$\n",
    "\n",
    "For this, we need to read the final surface structure manually."
   ]
  },
  {
   "cell_type": "code",
   "execution_count": 9,
   "id": "twenty-ridge",
   "metadata": {},
   "outputs": [
    {
     "data": {
      "text/plain": [
       "Atoms(symbols='Ni12', pbc=True, cell=[1.978349761, 2.797335995, 23.740192654], calculator=SinglePointDFTCalculator(...))"
      ]
     },
     "execution_count": 9,
     "metadata": {},
     "output_type": "execute_result"
    }
   ],
   "source": [
    "from ase import io\n",
    "\n",
    "surface_atoms = io.read(\"../../data/VASP_5_4__500_kdens_0_150_SP_PBE/Ni/atomic__fcc_110surf_12at__Ni12/OUTCAR.gz\", format=\"vasp-out\")\n",
    "surface_atoms"
   ]
  },
  {
   "cell_type": "code",
   "execution_count": 11,
   "id": "stuffed-trauma",
   "metadata": {},
   "outputs": [
    {
     "name": "stdout",
     "output_type": "stream",
     "text": [
      "1379.5079416851156\n"
     ]
    }
   ],
   "source": [
    "eV_A2_to_mJ_m2 = 1.60218e-19 * 1e20 * 1e3\n",
    "\n",
    "surface_structure_energy = output_dict[\"atomic__fcc_110surf_12at__Ni12\"][\"structure_energy\"]\n",
    "surface_n_at = output_dict[\"atomic__fcc_110surf_12at__Ni12\"][\"n_atom\"]\n",
    "surface_area = np.linalg.det(surface_atoms.get_cell()[:2, :2])\n",
    "\n",
    "basis_ref_energy = output_dict[\"atomic__fcc__Ni\"][\"structure_energy\"]\n",
    "basis_ref_n_atom = output_dict[\"atomic__fcc__Ni\"][\"n_atom\"]\n",
    "\n",
    "surface_formation_energy = (surface_structure_energy / surface_n_at - basis_ref_energy / basis_ref_n_atom) / (2 * surface_area)\n",
    "print(surface_formation_energy * eV_A2_to_mJ_m2)"
   ]
  },
  {
   "cell_type": "code",
   "execution_count": null,
   "id": "criminal-spring",
   "metadata": {},
   "outputs": [],
   "source": []
  }
 ],
 "metadata": {
  "kernelspec": {
   "display_name": "Python 3",
   "language": "python",
   "name": "python3"
  },
  "language_info": {
   "codemirror_mode": {
    "name": "ipython",
    "version": 3
   },
   "file_extension": ".py",
   "mimetype": "text/x-python",
   "name": "python",
   "nbconvert_exporter": "python",
   "pygments_lexer": "ipython3",
   "version": "3.6.9"
  },
  "toc": {
   "base_numbering": 1,
   "nav_menu": {},
   "number_sections": true,
   "sideBar": true,
   "skip_h1_title": false,
   "title_cell": "Table of Contents",
   "title_sidebar": "Contents",
   "toc_cell": false,
   "toc_position": {},
   "toc_section_display": true,
   "toc_window_display": false
  }
 },
 "nbformat": 4,
 "nbformat_minor": 5
}
