{
 "cells": [
  {
   "cell_type": "markdown",
   "id": "individual-proportion",
   "metadata": {},
   "source": [
    "# Getting started - command line interface\n",
    "This example illustrates a sample workflow using the pre-implemented dummy engine. To make use of it please configure the `.strucscan` configuration file and copy it in your home directory. You can use the template that comes by default with the repository and link the absolute paths to the structure and resource repository to the default ones from the repository."
   ]
  },
  {
   "cell_type": "code",
   "execution_count": 1,
   "id": "backed-dylan",
   "metadata": {},
   "outputs": [
    {
     "name": "stdout",
     "output_type": "stream",
     "text": [
      "PROJECT_PATH: \"data\"    # corresponds to the top node of your data tree\r\n",
      "STRUCTURES_PATH: \"structures\"\r\n",
      "RESOURCE_PATH: \"resources\"\r\n",
      "\r\n",
      "DEBUG: FALSE                # Default: FALSE\r\n",
      "STRUCT_FILE_FORMAT: cfg     # Default: cfg\r\n",
      "SLEEP_TIME: 45              # Default: 45"
     ]
    }
   ],
   "source": [
    "! cat ../.strucscan"
   ]
  },
  {
   "cell_type": "markdown",
   "id": "three-estate",
   "metadata": {},
   "source": [
    "In general, you might want to adapt the `.strucscan` to your own structure and resource directory and set up a resource directory accordingly. For now, you do not need to worry about it and we will discuss it later. \\n",
    "This example makes use of the Jupyter notebook interface. In the second example, we demonstrate how to use strucscan from command line. \\n",
    "This example makes use of the command line interface."
   ]
  },
  {
   "cell_type": "markdown",
   "id": "latin-belize",
   "metadata": {},
   "source": [
    "## The `input` YAML\n",
    "Analogue to using strucscan via Jupyter notebook interface, all information about the calculations you want to perform is handed over to strucscan in form of a YAML file. Equally to the `input` dictionary, it requires the same mandatory keys and allows optional ones. Optional keys are set to the default value if left out. Each value needs to be of type string unless it is a boolean. \\n",
    "The mandatory and optional keys should be already known from the first example. To get started we have a look at an example `input` YAML for our dummy engine:"
   ]
  },
  {
   "cell_type": "code",
   "execution_count": 2,
   "id": "lucky-wisdom",
   "metadata": {},
   "outputs": [
    {
     "name": "stdout",
     "output_type": "stream",
     "text": [
      "species: 'Al'\r\n",
      "engine: 'dummy'\r\n",
      "machine: 'dummy'\r\n",
      "initial atvolume: 'default'\r\n",
      "ncores: '1'\r\n",
      "nnodes: '1'\r\n",
      "queuename: 'none'\r\n",
      "properties: 'static atomic total eos'\r\n",
      "prototypes: 'fcc.cfg'\r\n",
      "potential: 'none'\r\n",
      "settings: 'none'\r\n",
      "verbose: True\r\n"
     ]
    }
   ],
   "source": [
    "! cat dummy.yaml"
   ]
  },
  {
   "cell_type": "markdown",
   "id": "brilliant-orlando",
   "metadata": {},
   "source": [
    "When comparing to the syntax of the `input` dictionary used by the Jupyter notebook interface, the similarity should be clear. In the `input` YAML, we only set the `verbose` tag already to `True`, so we have a little more insight."
   ]
  },
  {
   "cell_type": "code",
   "execution_count": 3,
   "id": "dietary-optimum",
   "metadata": {},
   "outputs": [
    {
     "data": {
      "text/plain": [
       "{'species': 'Al',\n",
       " 'engine': 'dummy',\n",
       " 'machine': 'dummy',\n",
       " 'initial atvolume': 'default',\n",
       " 'ncores': '1',\n",
       " 'nnodes': '1',\n",
       " 'queuename': 'none',\n",
       " 'properties': 'static atomic total eos',\n",
       " 'prototypes': 'fcc.cfg',\n",
       " 'potential': 'none',\n",
       " 'settings': 'none'}"
      ]
     },
     "execution_count": 3,
     "metadata": {},
     "output_type": "execute_result"
    }
   ],
   "source": [
    "from strucscan.resources.inputyaml import DUMMY\n",
    "DUMMY().EXAMPLE"
   ]
  },
  {
   "cell_type": "markdown",
   "id": "departmental-poetry",
   "metadata": {},
   "source": [
    "## Command line interface\n",
    "By defining the `input` YAML properly the first step is already done. The next and last step is only to call strucscan from command line and let it does the work for us:"
   ]
  },
  {
   "cell_type": "code",
   "execution_count": 4,
   "id": "satellite-thermal",
   "metadata": {},
   "outputs": [
    {
     "name": "stdout",
     "output_type": "stream",
     "text": [
      "Data tree path:                /home/users/pietki8q/git/strucscan-master/data\n",
      "Structure repository:          /home/users/pietki8q/git/strucscan-master/structures\n",
      "Resource repository:           /home/users/pietki8q/git/strucscan-master/resources\n",
      "\n",
      "Optional key 'monitor' not provided. Default value will be used: True\n",
      "Optional key 'submit' not provided. Default value will be used: True\n",
      "Optional key 'collect' not provided. Default value will be used: True\n",
      "\n",
      "\n",
      "key:                           : your input                                         what strucscan reads                              \n",
      "----------------------------------------------------------------------------------------------------\n",
      "species                        : Al                                                 Al                                                \n",
      "engine                         : dummy                                              dummy                                             \n",
      "machine                        : dummy                                              dummy                                             \n",
      "initial atvolume               : default                                            default                                           \n",
      "ncores                         : 1                                                  1                                                 \n",
      "nnodes                         : 1                                                  1                                                 \n",
      "queuename                      : none                                               none                                              \n",
      "properties                     : static atomic total eos                            static atomic total eos_total                     \n",
      "prototypes                     : fcc.cfg                                            fcc.cfg                                           \n",
      "potential                      : none                                               none                                              \n",
      "settings                       : none                                               none                                              \n",
      "verbose                        : True                                               True                                              \n",
      "monitor                        : (not set)                                          True                                              \n",
      "submit                         : (not set)                                          True                                              \n",
      "collect                        : (not set)                                          True                                              \n",
      "\n",
      ">> Initializing:\n",
      "Initialized  Al static\n",
      "Initialized  Al static\n",
      "Initialized  Al atomic\n",
      "Initialized  Al total\n",
      "Initialized  Al eos_total\n",
      "\n",
      "4 jobs in JobList:\n",
      "------------------------------------------------------------------------------------------------------------------\n",
      "  #: jobpath                                                       prototype path                                              \n",
      "------------------------------------------------------------------------------------------------------------------\n",
      "  0: DUMMY/Al/static__fcc__Al                                      unaries/bulk/fcc.cfg                                        \n",
      "  1: DUMMY/Al/eos_total__fcc__Al                                   DUMMY/Al/total__fcc__Al/final.cfg                           \n",
      "  2: DUMMY/Al/total__fcc__Al                                       DUMMY/Al/atomic__fcc__Al/final.cfg                          \n",
      "  3: DUMMY/Al/atomic__fcc__Al                                      DUMMY/Al/static__fcc__Al/final.cfg                          \n",
      "\n",
      "  #: jobpath                                                      id       status   start                end                 \n",
      "------------------------------------------------------------------------------------------------------------------\n",
      "  0 DUMMY/Al/static__fcc__Al                                     None     does not exist                                          \n",
      "  1 DUMMY/Al/eos_total__fcc__Al                                  None     does not exist                                          \n",
      "  2 DUMMY/Al/total__fcc__Al                                      None     does not exist                                          \n",
      "  3 DUMMY/Al/atomic__fcc__Al                                     None     does not exist                                          \n",
      "\n",
      "\n",
      ">> Entering loop:\n",
      "Submitted: static__fcc__Al\n",
      "Submitted: atomic__fcc__Al\n",
      "  #: jobpath                                                      id       status   start                end                 \n",
      "------------------------------------------------------------------------------------------------------------------\n",
      "  0 DUMMY/Al/static__fcc__Al                                     None     finished                      06/22/2022 09:58    \n",
      "\n",
      "  1 DUMMY/Al/eos_total__fcc__Al                                  None     does not exist                                          \n",
      "\n",
      "  2 DUMMY/Al/total__fcc__Al                                      None     does not exist                                          \n",
      "\n",
      "  3 DUMMY/Al/atomic__fcc__Al                                     None     finished                      06/22/2022 09:58    \n",
      "\n",
      "\n",
      "Submitted: total__fcc__Al\n",
      "  #: jobpath                                                      id       status   start                end                 \n",
      "------------------------------------------------------------------------------------------------------------------\n",
      "  0 DUMMY/Al/static__fcc__Al                                     None     finished                      06/22/2022 09:58    \n",
      "\n",
      "  1 DUMMY/Al/eos_total__fcc__Al                                  None     does not exist                                          \n",
      "\n",
      "  2 DUMMY/Al/total__fcc__Al                                      None     finished                      06/22/2022 09:59    \n",
      "\n",
      "  3 DUMMY/Al/atomic__fcc__Al                                     None     finished                      06/22/2022 09:58    \n",
      "\n",
      "\n",
      "Submitted: eos_total__fcc__Al\n",
      "  #: jobpath                                                      id       status   start                end                 \n",
      "------------------------------------------------------------------------------------------------------------------\n",
      "  0 DUMMY/Al/static__fcc__Al                                     None     finished                      06/22/2022 09:58    \n",
      "\n",
      "  1 DUMMY/Al/eos_total__fcc__Al                                  None     finished                      06/22/2022 09:59    \n",
      "\n",
      "  2 DUMMY/Al/total__fcc__Al                                      None     finished                      06/22/2022 09:59    \n",
      "\n",
      "  3 DUMMY/Al/atomic__fcc__Al                                     None     finished                      06/22/2022 09:58    \n",
      "\n",
      "\n",
      "\n",
      "Finished.\n"
     ]
    }
   ],
   "source": [
    "! strucscan dummy.yaml"
   ]
  },
  {
   "cell_type": "code",
   "execution_count": null,
   "id": "labeled-hammer",
   "metadata": {},
   "outputs": [],
   "source": []
  }
 ],
 "metadata": {
  "kernelspec": {
   "display_name": "Python 3",
   "language": "python",
   "name": "python3"
  },
  "language_info": {
   "codemirror_mode": {
    "name": "ipython",
    "version": 3
   },
   "file_extension": ".py",
   "mimetype": "text/x-python",
   "name": "python",
   "nbconvert_exporter": "python",
   "pygments_lexer": "ipython3",
   "version": "3.6.9"
  },
  "toc": {
   "base_numbering": 1,
   "nav_menu": {},
   "number_sections": true,
   "sideBar": true,
   "skip_h1_title": false,
   "title_cell": "Table of Contents",
   "title_sidebar": "Contents",
   "toc_cell": false,
   "toc_position": {},
   "toc_section_display": true,
   "toc_window_display": false
  }
 },
 "nbformat": 4,
 "nbformat_minor": 5
}
