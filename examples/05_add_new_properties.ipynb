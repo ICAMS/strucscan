{
 "cells": [
  {
   "cell_type": "markdown",
   "metadata": {},
   "source": [
    "# How to add new properties"
   ]
  },
  {
   "cell_type": "markdown",
   "metadata": {},
   "source": [
    "Adding new properties is simple but requires integrating your methods for pre- and post-processing correctly. This tutorial guides you in detail on how to do so."
   ]
  },
  {
   "cell_type": "markdown",
   "metadata": {},
   "source": [
    "# 1. Define your property"
   ]
  },
  {
   "cell_type": "markdown",
   "metadata": {},
   "source": [
    "At first, you need to define and develop methods for the pre- and post-processing. \n",
    "\n",
    "\n",
    "The method that conducts the **pre-processing** of your structures should be named `generate_structures` and takes as input argument only a single `ase.atoms` object. It needs to return a list of `ase.atoms` objects modified in the way you wish. \n",
    "\n",
    "\n",
    "For the **post-processing**, you need to define a method that takes two arguments: a `strucscan.engine.generalengine` object and `str` containing the absolute path to the directory of the final calculation. This method should read the final structures, post-process the data in a custom way and return a python dictionary.\n",
    "\n",
    "\n",
    "You can take the `strucscan.properties.eos` module as an example:"
   ]
  },
  {
   "cell_type": "code",
   "execution_count": 1,
   "metadata": {},
   "outputs": [
    {
     "name": "stdout",
     "output_type": "stream",
     "text": [
      "from ase.eos import EquationOfState\r\n",
      "\r\n",
      "import numpy as np\r\n",
      "import os\r\n",
      "\r\n",
      "volume_range = 0.1\r\n",
      "num_of_point = 11\r\n",
      "\r\n",
      "\r\n",
      "def generate_structures(atoms):\r\n",
      "    \"\"\"\r\n",
      "    :param atoms: (ASE atoms object)\r\n",
      "    :return: (ASE atoms object list) list of modified ASE atoms objects\r\n",
      "    \"\"\"\r\n",
      "    vol_min = 1 - volume_range\r\n",
      "    vol_max = 1 + volume_range\r\n",
      "\r\n",
      "    strained_structures = []\r\n",
      "    for strain in np.linspace(vol_min, vol_max, num_of_point):\r\n",
      "        basis = atoms.copy()\r\n",
      "\r\n",
      "        cell = basis.get_cell()\r\n",
      "        cell *= strain ** (1. / 3.)\r\n",
      "\r\n",
      "        basis.set_cell(cell, scale_atoms=True)\r\n",
      "        strained_structures.append(basis)\r\n",
      "    return strained_structures\r\n",
      "\r\n",
      "\r\n",
      "def get_EOS_properties(calc, absolute_path):\r\n",
      "    \"\"\"\r\n",
      "    :param calc: (strucscan.engine.generalengine.GeneralEngine object) calculator object\r\n",
      "    :param absolute_path: (str) absolute path to job directory\r\n",
      "    :return: (dict) python dictionary with summarized results\r\n",
      "    \"\"\"\r\n",
      "    energy_list = []\r\n",
      "    volume_list = []\r\n",
      "    stress_list = []\r\n",
      "    pressure_list = []\r\n",
      "    result_filename = calc.get_result_filename()\r\n",
      "    for filename in os.listdir(absolute_path):\r\n",
      "        if (result_filename in filename):\r\n",
      "            final_struct = calc.read_final_structure(absolute_path,\r\n",
      "                                                     resultfilename=filename)\r\n",
      "            energy_list.append(final_struct.get_potential_energy())\r\n",
      "            volume_list.append(final_struct.get_volume())\r\n",
      "            stress = final_struct.get_stress()\r\n",
      "            stress_list.append(stress)\r\n",
      "            pressure_list.append(-1./3.*sum(stress[0:3]))\r\n",
      "\r\n",
      "    eos = EquationOfState(volume_list, energy_list, eos='murnaghan')\r\n",
      "    v0, e0, B = eos.fit()\r\n",
      "\r\n",
      "    outputdict = {}\r\n",
      "    outputdict[\"volume\"] = np.array(volume_list)\r\n",
      "    outputdict[\"energy\"] = np.array(energy_list)\r\n",
      "    outputdict['stresses'] = np.array(stress_list)\r\n",
      "    outputdict['pressure'] = np.array(pressure_list)\r\n",
      "    outputdict[\"equilibrium_energy\"] = e0\r\n",
      "    outputdict[\"equilibrium_volume\"] = v0\r\n",
      "    outputdict[\"equilibrium_bulk_modulus\"] = B\r\n",
      "    return outputdict\r\n"
     ]
    }
   ],
   "source": [
    "! cat ../strucscan/properties/eos.py"
   ]
  },
  {
   "cell_type": "markdown",
   "metadata": {},
   "source": [
    "# Respect pre-requesites"
   ]
  },
  {
   "cell_type": "markdown",
   "metadata": {},
   "source": [
    "If your property requires any pre-requisites, you can link them in the `propertis.yaml` file in the resource module of strucscan:"
   ]
  },
  {
   "cell_type": "code",
   "execution_count": 2,
   "metadata": {},
   "outputs": [
    {
     "name": "stdout",
     "output_type": "stream",
     "text": [
      "# Each property that requires any kind of pre-processing, e.g.\r\n",
      "# generation of multiple input structure files\r\n",
      "# are 'advanced' properties and should be listed here.\r\n",
      "# The instruction after the colon indicate which property is prerequisite.\r\n",
      "# For the properties before the colon, no relaxation will be performed.\r\n",
      "# If the property is 'advanced' but requires no prerequisite,\r\n",
      "# no conditional property needs to be entered after the colon (= None).\r\n",
      "\r\n",
      "eos: static, atomic, total\r\n",
      "dos: total\r\n",
      "\r\n",
      "\r\n",
      "default_option: atomic\r\n"
     ]
    }
   ],
   "source": [
    "! cat ../strucscan/resources/properties.yaml"
   ]
  },
  {
   "cell_type": "markdown",
   "metadata": {},
   "source": [
    "The name of the property that you type before the colon will be the keyword that you hand over to strucscan later in the input files."
   ]
  },
  {
   "cell_type": "markdown",
   "metadata": {},
   "source": [
    "# 2. Integrate your property in the workflow"
   ]
  },
  {
   "cell_type": "markdown",
   "metadata": {},
   "source": [
    "At last, you need to integrate the call of your property in the workflow. There are two interfaces that need to be respected:\n",
    "## 1. Pre-processing:\n",
    "This happens in the `strucscan.core.jobmaker` class. In the method `get_advanced_prototypes` you are asked to link your property in the `if-elif` clause as already done for the `eos` property. Please continue with `elif` statements and call the `generate_structures` method of your property module. Make sure you type in the same name of the property as you have chosen in the `properties.yaml`.\n",
    "\n",
    "At the **bottom** of the **strucscan/core/jobmaker.py** script you should find:"
   ]
  },
  {
   "cell_type": "code",
   "execution_count": 3,
   "metadata": {},
   "outputs": [],
   "source": [
    "def get_advanced_prototypes(self, jobobject):\n",
    "        property = jobobject.property\n",
    "        basis_ref = jobobject.basis_ref_atoms\n",
    "        if \"eos\" in property:\n",
    "            from strucscan.properties import eos\n",
    "            strained_structures = eos.generate_structures(basis_ref)\n",
    "            return strained_structures\n",
    "        return"
   ]
  },
  {
   "cell_type": "markdown",
   "metadata": {},
   "source": [
    "## 2. Post-processing:\n",
    "The second interface is the post-processing of the data. This happens when the data is collected which is conducted by the `strucscan.core.collector` module. Similar to the linking of the pre-processing, you are now asked to integrate your post-processing method. Again, you can take the `eos` property as an example.\n",
    "\n",
    "At the **bottom** of the **strucscan/core/collector.py** script you should find:"
   ]
  },
  {
   "cell_type": "code",
   "execution_count": 4,
   "metadata": {},
   "outputs": [],
   "source": [
    "def get_result_dict(calc, property, absolute_path):\n",
    "    \"\"\"\n",
    "    :param calc: (strucscan.engine.generalengine.GeneralEngine object) calculator object\n",
    "    :param property: (str) name of property\n",
    "    :param absolute_path: (str) absolute path to job directory\n",
    "    :return: (dict) summarized results of calculation\n",
    "    \"\"\"\n",
    "    result_dict = {}\n",
    "    try:\n",
    "        if property in [\"static\", \"atomic\", \"total\"]:\n",
    "            from strucscan.properties import bulk\n",
    "            result_dict = bulk.get_bulk_properties(calc, absolute_path)\n",
    "        elif \"eos\" in property:\n",
    "            from strucscan.properties import eos\n",
    "            result_dict = eos.get_EOS_properties(calc, absolute_path)\n",
    "    except Exception as exception:\n",
    "        if DEBUG():\n",
    "            print(\"Problem in collecting '{property}' properties from {path}:\". \\\n",
    "                  format(property=property,\n",
    "                         path=absolute_path))\n",
    "            exc_type, exc_obj, exc_tb = sys.exc_info()\n",
    "            fname = os.path.split(exc_tb.tb_frame.f_code.co_filename)[1]\n",
    "            print(\"line\", exc_tb.tb_lineno, \"in\", fname, \":\", exc_type)\n",
    "            pprint(traceback.format_tb(exc_tb))\n",
    "            print(exception)\n",
    "    return result_dict"
   ]
  },
  {
   "cell_type": "markdown",
   "metadata": {},
   "source": [
    "And that's it! You now should be able to run your property as introduced in the second example on the `eos` property."
   ]
  }
 ],
 "metadata": {
  "kernelspec": {
   "display_name": "Python 3",
   "language": "python",
   "name": "python3"
  },
  "language_info": {
   "codemirror_mode": {
    "name": "ipython",
    "version": 3
   },
   "file_extension": ".py",
   "mimetype": "text/x-python",
   "name": "python",
   "nbconvert_exporter": "python",
   "pygments_lexer": "ipython3",
   "version": "3.8.5"
  },
  "toc": {
   "base_numbering": 1,
   "nav_menu": {},
   "number_sections": true,
   "sideBar": true,
   "skip_h1_title": false,
   "title_cell": "Table of Contents",
   "title_sidebar": "Contents",
   "toc_cell": false,
   "toc_position": {},
   "toc_section_display": true,
   "toc_window_display": false
  }
 },
 "nbformat": 4,
 "nbformat_minor": 5
}
