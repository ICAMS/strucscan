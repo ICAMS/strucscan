{
 "cells": [
  {
   "cell_type": "markdown",
   "id": "annoying-enforcement",
   "metadata": {},
   "source": [
    "# Getting started\n",
    "This exmaple illustrates a sample workflow using the pre-implemented dummy engine. To make use of it please configure the `.strucscan` configuration file and copy it in you home directory. You can use the template that comes by default with the repository and link the absoulte pathes to the structure and resource repository to the default ones from the repository."
   ]
  },
  {
   "cell_type": "code",
   "execution_count": 1,
   "id": "wound-installation",
   "metadata": {},
   "outputs": [
    {
     "name": "stdout",
     "output_type": "stream",
     "text": [
      "PROJECT_PATH: \"data\"    # corresponds to the top node of your data tree\r\n",
      "STRUCTURES_PATH: \"structures\"\r\n",
      "RESOURCE_PATH: \"resources\"\r\n",
      "\r\n",
      "DEBUG: FALSE                # Default: FALSE\r\n",
      "STRUCT_FILE_FORMAT: cfg     # Default: cfg\r\n",
      "SLEEP_TIME: 45              # Default: 45"
     ]
    }
   ],
   "source": [
    "! cat ../.strucscan"
   ]
  },
  {
   "cell_type": "markdown",
   "id": "after-orchestra",
   "metadata": {},
   "source": [
    "In general, you might want to adapt the `.strucscan` to your own structure and resource directory and set up a resource directory accordingly. For now, you do not need to worry about it and we will discuss it later. \\\n",
    "This example makes use of the Jupyter notebook interface. In the second example, we demonstrate how to use strucscan from command line."
   ]
  },
  {
   "cell_type": "markdown",
   "id": "ecological-tribe",
   "metadata": {},
   "source": [
    "## The `input` dictionary\n",
    "Every information about the calculations you want to perform is hand over to strucscan in form of a python dictionary. This `input` dictionary allows several keys where some are mandatory and other are optional. If optional keys are left out, strucscan will fall back to default values. Each value needs to be of type string unless it is boolean. \\\n",
    "Let's have a look at general mandatory keys that every engine requires:\n",
    "## Mandatory keys"
   ]
  },
  {
   "cell_type": "code",
   "execution_count": 2,
   "id": "early-mercy",
   "metadata": {},
   "outputs": [
    {
     "data": {
      "text/plain": [
       "{'species': 'str',\n",
       " 'engine': 'str',\n",
       " 'machine': 'str',\n",
       " 'ncores': 'str',\n",
       " 'nnodes': 'str',\n",
       " 'queuename': 'str',\n",
       " 'potential': 'str',\n",
       " 'properties': 'str',\n",
       " 'prototypes': 'str',\n",
       " 'settings': 'str'}"
      ]
     },
     "execution_count": 2,
     "metadata": {},
     "output_type": "execute_result"
    }
   ],
   "source": [
    "from strucscan.resources.inputyaml import GENERAL\n",
    "\n",
    "GENERAL().MANDATORY"
   ]
  },
  {
   "cell_type": "markdown",
   "id": "regional-behavior",
   "metadata": {},
   "source": [
    "As you see, this gives you an idea which value type to enter for each key. Let's have a detailed look at the mandatory keys:\n",
    "\n",
    "* `species`: (str) chemical species. You can enter multiple speices space seperated, e.g. \"Ni Al\".\n",
    "* `engine`: (str) the material simulation code. This depends on the implemented interfaces. As a 'dummy' engine and an interface to VASP is already implemented, possible values are `'dummy'` or `'VASP'`.\n",
    "\n",
    "* `machine`: (str) name of the machine. This refers to the configurations you have made in the resouce directory.\n",
    "* `ncores`: (int) number of cores per node.\n",
    "* `nnodes`: (int) number of nodes.\n",
    "* `queuename`: (str) name of the queue. When running on queuing systems, this will refer to a template file that you deposit in `resources/machineconfig/<machine>/<scheduler>/<queuename>.<scheduler_suffix>`.\n",
    "* `potentials`: (str) in case of VASP, this refers to the exchange functionl (`'PBE'` or `'LDA'`). For VASP, please enter one potential per specie. For LAMMPS or any other engine, this refers to a file that you deposit in `resources/engine/<engine>/potentials`.\n",
    "* `settings`: (str) this refers to a template engine settings file text that you deposit in `resources/engine/<engine>/settings`. Strucscan will check this template and adapts tags and values if neccessary.\n",
    "* `properties`: (str) material properties to perform. You can enter multiple properties space seperated. Will will discuss the available properties below.\n",
    "* `prototypes`: (str) names of structure files you want to analyse. Strucscan will look in `resources/structures` for the structure files. You can enter the full name of the structure files space speretaed or enter them on multiple lines. You can also enter a directory containing structures by indicating it by `'<', '>'`, e.g. `<bulk/fcc/>`. Please make sure that every structure has a unique name."
   ]
  },
  {
   "cell_type": "markdown",
   "id": "victorian-surname",
   "metadata": {},
   "source": [
    "## Optional keys\n",
    "Last, we should discuss the optional keys."
   ]
  },
  {
   "cell_type": "code",
   "execution_count": 3,
   "id": "convinced-firewall",
   "metadata": {},
   "outputs": [
    {
     "data": {
      "text/plain": [
       "{'initial atvolume': 'default',\n",
       " 'verbose': False,\n",
       " 'monitor': True,\n",
       " 'submit': True,\n",
       " 'collect': True}"
      ]
     },
     "execution_count": 3,
     "metadata": {},
     "output_type": "execute_result"
    }
   ],
   "source": [
    "from strucscan.resources.inputyaml import GENERAL\n",
    "GENERAL().OPTIONAL"
   ]
  },
  {
   "cell_type": "markdown",
   "id": "blocked-protest",
   "metadata": {},
   "source": [
    "* `initial atvolume`: (str) initial scaling of the structures. Enter one float per specie, e.g. `10. 12.` or type `d` or `default` to use the default atomic volumes deposited in `strucscan.resources.atomicvolumes.py`\n",
    "* `verbose`: (bool) toggles command line output.\n",
    "* `monitor`: (bool) if true, strucscan will check the status of each job.\n",
    "* `submit`: (bool) if true, strucscan will check the status of each job.\n",
    "* `collect`: (bool) if true, strucscan will check the status of each job."
   ]
  },
  {
   "cell_type": "markdown",
   "id": "failing-giving",
   "metadata": {},
   "source": [
    "## Properties\n",
    "Now let's see which properties are available."
   ]
  },
  {
   "cell_type": "code",
   "execution_count": 4,
   "id": "certified-transition",
   "metadata": {},
   "outputs": [],
   "source": [
    "from strucscan.resources.properties import *"
   ]
  },
  {
   "cell_type": "markdown",
   "id": "regional-ultimate",
   "metadata": {},
   "source": [
    "Strucscan distinguishes between properties that require any condition and properties that run without any prerequisites. For example, calculating the energy from a structure or optimizing the structure in some way requires no conditon. These are the tasks `static` (calculte energy only), `atomic` (optimize inner degrees of structure), `total` (fully optimize structure)."
   ]
  },
  {
   "cell_type": "code",
   "execution_count": 5,
   "id": "bigger-growing",
   "metadata": {},
   "outputs": [
    {
     "data": {
      "text/plain": [
       "['static', 'atomic', 'total']"
      ]
     },
     "execution_count": 5,
     "metadata": {},
     "output_type": "execute_result"
    }
   ],
   "source": [
    "OPTIMIZATIONS"
   ]
  },
  {
   "cell_type": "markdown",
   "id": "copyrighted-latino",
   "metadata": {},
   "source": [
    "An example task requiering a condition could be a energy-volume calcultion. Usually, you per-process the structure before you create the strained images. The task `ev`, therefore, belongs to the advanced tasks. Advanced tasks and their conditions can be defined in `properties.yaml` in `strucscan.resources` which is read by the `properties` module and stored in `properties_conifg_dict`:"
   ]
  },
  {
   "cell_type": "code",
   "execution_count": 6,
   "id": "corrected-northeast",
   "metadata": {},
   "outputs": [
    {
     "name": "stdout",
     "output_type": "stream",
     "text": [
      "{'default_option': 'atomic', 'dos': 'total', 'eos': 'static, atomic, total'}\n"
     ]
    }
   ],
   "source": [
    "from pprint import pprint\n",
    "pprint(properties_conifg_dict)"
   ]
  },
  {
   "cell_type": "markdown",
   "id": "horizontal-somewhere",
   "metadata": {},
   "source": [
    "The dictionary is build in that way that each key is the name of an advanced task and contains values representing the condition. The key `default_option` can be configured in the `properties.yaml` and is needed whenever no information about the condition is made. If not, strucscan will set it to the default value which is `atomic`. You may update the dictionary by:"
   ]
  },
  {
   "cell_type": "code",
   "execution_count": 7,
   "id": "exterior-script",
   "metadata": {},
   "outputs": [
    {
     "name": "stdout",
     "output_type": "stream",
     "text": [
      "{'default_option': 'total', 'dos': 'total', 'eos': 'static, atomic, total'}\n"
     ]
    }
   ],
   "source": [
    "properties_conifg_dict.update({\"default_option\": \"total\"})\n",
    "pprint(properties_conifg_dict)"
   ]
  },
  {
   "cell_type": "markdown",
   "id": "freelance-nutrition",
   "metadata": {},
   "source": [
    "## Input example: VASP\n",
    "Now that we have an idea what the `input` dictionary looks like, let's make a little more clear by looking at an example for VASP."
   ]
  },
  {
   "cell_type": "code",
   "execution_count": 8,
   "id": "naval-latvia",
   "metadata": {
    "scrolled": false
   },
   "outputs": [
    {
     "data": {
      "text/plain": [
       "{'species': 'Ni Al_pv',\n",
       " 'engine': 'VASP 5.4',\n",
       " 'machine': 'example_vasp',\n",
       " 'ncores': '1',\n",
       " 'nnodes': '1',\n",
       " 'queuename': 'none',\n",
       " 'potential': 'PBE',\n",
       " 'properties': 'atomic',\n",
       " 'prototypes': 'L1_2',\n",
       " 'settings': '500_SP.incar',\n",
       " 'magnetic configuration': 'SP',\n",
       " 'initial magnetic moments': '2.0 0.',\n",
       " 'kdens': '0.15',\n",
       " 'kmesh': 'Monkhorst-pack',\n",
       " 'initial atvolume': 'default',\n",
       " 'verbose': False,\n",
       " 'monitor': True,\n",
       " 'submit': True,\n",
       " 'collect': False}"
      ]
     },
     "execution_count": 8,
     "metadata": {},
     "output_type": "execute_result"
    }
   ],
   "source": [
    "from strucscan.resources.inputyaml import VASP\n",
    "VASP().EXAMPLE"
   ]
  },
  {
   "cell_type": "markdown",
   "id": "ambient-crossing",
   "metadata": {},
   "source": [
    "You see that VASP allows keys to define the magnetic moments and configuration as well as information about the k-point distribution. If we look at the mandatory keys that VASP we requires, we will see that the keys on the magnetsism are mandatory as VASP is sensitive to it. The ones on the k-points distribution are optional."
   ]
  },
  {
   "cell_type": "code",
   "execution_count": 9,
   "id": "consecutive-provider",
   "metadata": {},
   "outputs": [
    {
     "data": {
      "text/plain": [
       "['species',\n",
       " 'engine',\n",
       " 'machine',\n",
       " 'ncores',\n",
       " 'nnodes',\n",
       " 'queuename',\n",
       " 'potential',\n",
       " 'properties',\n",
       " 'prototypes',\n",
       " 'settings',\n",
       " 'magnetic configuration',\n",
       " 'initial magnetic moments']"
      ]
     },
     "execution_count": 9,
     "metadata": {},
     "output_type": "execute_result"
    }
   ],
   "source": [
    "list(VASP().MANDATORY.keys())"
   ]
  },
  {
   "cell_type": "code",
   "execution_count": 10,
   "id": "regular-environment",
   "metadata": {},
   "outputs": [
    {
     "data": {
      "text/plain": [
       "['initial atvolume',\n",
       " 'verbose',\n",
       " 'monitor',\n",
       " 'submit',\n",
       " 'collect',\n",
       " 'kdens',\n",
       " 'kmesh',\n",
       " 'k points file']"
      ]
     },
     "execution_count": 10,
     "metadata": {},
     "output_type": "execute_result"
    }
   ],
   "source": [
    "list(VASP().OPTIONAL.keys())"
   ]
  },
  {
   "cell_type": "markdown",
   "id": "rubber-addition",
   "metadata": {},
   "source": [
    "## Input example: dummy\n",
    "As VASP requires an available installation, let's move on to the pre-implemented 'dummy' engine to get started with strucscan. Instead of calculating any energies, it will only copy the initial structure file, `structure.cfg`, to the final file, `final.cfg` and waits for 15 s. You can configure this command in the machine configuration file:"
   ]
  },
  {
   "cell_type": "code",
   "execution_count": 11,
   "id": "extreme-karma",
   "metadata": {},
   "outputs": [
    {
     "name": "stdout",
     "output_type": "stream",
     "text": [
      "{'DUMMY': {'parallel': 'cp structure.cfg final.cfg | echo \"This is a dummy log '\n",
      "                       'file.\" > log.out | sleep 1\\n',\n",
      "           'serial': 'cp structure.cfg final.cfg | echo \"This is a dummy log '\n",
      "                     'file.\" > log.out | sleep 1\\n'},\n",
      " 'scheduler': 'noqueue',\n",
      " 'smallest queue': None}\n"
     ]
    }
   ],
   "source": [
    "import yaml\n",
    "with open(\"../resources/machineconfig/dummy/config.yaml\", \"r\") as stream:\n",
    "        config = yaml.safe_load(stream)\n",
    "pprint(config)"
   ]
  },
  {
   "cell_type": "markdown",
   "id": "documented-glossary",
   "metadata": {},
   "source": [
    "The machine configuration in configured for machines without queuing systems. You can test it right away on your local machine. You can test strucscan with the 'dummy' engine without setting up any pre-requirements. \\\n",
    "Let's check the example `input` dicitonary for our dummy:"
   ]
  },
  {
   "cell_type": "code",
   "execution_count": 12,
   "id": "identical-armor",
   "metadata": {
    "scrolled": true
   },
   "outputs": [
    {
     "data": {
      "text/plain": [
       "{'species': 'Al',\n",
       " 'engine': 'dummy',\n",
       " 'machine': 'dummy',\n",
       " 'initial atvolume': 'default',\n",
       " 'ncores': '1',\n",
       " 'nnodes': '1',\n",
       " 'queuename': 'none',\n",
       " 'properties': 'static atomic total eos',\n",
       " 'prototypes': 'fcc.cfg',\n",
       " 'potential': 'none',\n",
       " 'settings': 'none'}"
      ]
     },
     "execution_count": 12,
     "metadata": {},
     "output_type": "execute_result"
    }
   ],
   "source": [
    "from strucscan.resources.inputyaml import DUMMY\n",
    "DUMMY().EXAMPLE"
   ]
  },
  {
   "cell_type": "markdown",
   "id": "confirmed-reset",
   "metadata": {},
   "source": [
    "Settings and potential are set to `'none'`. The 'dummy' does not require any potential or settings file and will not look for it in the resource directory."
   ]
  },
  {
   "cell_type": "code",
   "execution_count": 13,
   "id": "exempt-money",
   "metadata": {},
   "outputs": [
    {
     "data": {
      "text/plain": [
       "['species',\n",
       " 'engine',\n",
       " 'machine',\n",
       " 'ncores',\n",
       " 'nnodes',\n",
       " 'queuename',\n",
       " 'potential',\n",
       " 'properties',\n",
       " 'prototypes',\n",
       " 'settings']"
      ]
     },
     "execution_count": 13,
     "metadata": {},
     "output_type": "execute_result"
    }
   ],
   "source": [
    "list(DUMMY().MANDATORY)"
   ]
  },
  {
   "cell_type": "code",
   "execution_count": 14,
   "id": "hazardous-airplane",
   "metadata": {},
   "outputs": [
    {
     "data": {
      "text/plain": [
       "['initial atvolume', 'verbose', 'monitor', 'submit', 'collect']"
      ]
     },
     "execution_count": 14,
     "metadata": {},
     "output_type": "execute_result"
    }
   ],
   "source": [
    "list(DUMMY().OPTIONAL)"
   ]
  },
  {
   "cell_type": "markdown",
   "id": "veterinary-remains",
   "metadata": {},
   "source": [
    "Let's use this input example and set the `verbose`, so we have a little more insight in what strucscan is doing."
   ]
  },
  {
   "cell_type": "code",
   "execution_count": 15,
   "id": "distinct-monroe",
   "metadata": {},
   "outputs": [
    {
     "data": {
      "text/plain": [
       "{'species': 'Al',\n",
       " 'engine': 'dummy',\n",
       " 'machine': 'dummy',\n",
       " 'initial atvolume': 'default',\n",
       " 'ncores': '1',\n",
       " 'nnodes': '1',\n",
       " 'queuename': 'none',\n",
       " 'properties': 'static atomic total eos',\n",
       " 'prototypes': 'fcc.cfg',\n",
       " 'potential': 'none',\n",
       " 'settings': 'none',\n",
       " 'verbose': True}"
      ]
     },
     "execution_count": 15,
     "metadata": {},
     "output_type": "execute_result"
    }
   ],
   "source": [
    "input_dict = DUMMY().EXAMPLE\n",
    "input_dict.update({'verbose': True})\n",
    "input_dict"
   ]
  },
  {
   "cell_type": "markdown",
   "id": "proof-hundred",
   "metadata": {},
   "source": [
    "## The JobManager\n",
    "Once the `input` dictionary is set up properly, you can hand it over to the `JobManager` which is the main class of strucscan. Initialising the `JobManager` with your `input` will start the process. Using the 'dummy' exmaple, the process will include following steps:\n",
    "\n",
    "1. **checking your input:** strucscan controls your input on mandatory and optional keys. If you left out any optional key, strucscan will fall back to the default value.\n",
    "2. **initializing the job list:** strucscan creates a list of all jobs that are assembled from a loop over your entered prototypes and a loop over your entered properties.\n",
    "3. **update the job list:** after initialization, strucscan will update each job in the list by checking its status. Does a job not exist, it will create and - if true - submit it. If a job exists, strucscan will check for possible errors in the job and performs a troubleshooting if possible. If the job already runs, strucscan won't touch the job files.\n",
    "4. **monitoring:** if set to true, strucscan will repeat the update process until each job in the list is finished completely, or has been restarted to a maximum number of three times. If enabled, strucscan will collect the data from the data tree after each cycle.\n",
    "5. **exiting:** if enabled, strucscan will collect the data from the data tree one more time."
   ]
  },
  {
   "cell_type": "code",
   "execution_count": 16,
   "id": "seven-health",
   "metadata": {
    "scrolled": false
   },
   "outputs": [
    {
     "name": "stdout",
     "output_type": "stream",
     "text": [
      "Data tree path:                /home/users/pietki8q/git/strucscan-master/data\n",
      "Structure repository:          /home/users/pietki8q/git/strucscan-master/structures\n",
      "Resource repository:           /home/users/pietki8q/git/strucscan-master/resources\n",
      "\n",
      "Optional key 'monitor' not provided. Default value will be used: True\n",
      "Optional key 'submit' not provided. Default value will be used: True\n",
      "Optional key 'collect' not provided. Default value will be used: True\n",
      "\n",
      "\n",
      "key:                           : your input                                         what strucscan reads                              \n",
      "----------------------------------------------------------------------------------------------------\n",
      "species                        : Al                                                 Al                                                \n",
      "engine                         : dummy                                              dummy                                             \n",
      "machine                        : dummy                                              dummy                                             \n",
      "initial atvolume               : default                                            default                                           \n",
      "ncores                         : 1                                                  1                                                 \n",
      "nnodes                         : 1                                                  1                                                 \n",
      "queuename                      : none                                               none                                              \n",
      "properties                     : static atomic total eos                            static atomic total eos_total                     \n",
      "prototypes                     : fcc.cfg                                            fcc.cfg                                           \n",
      "potential                      : none                                               none                                              \n",
      "settings                       : none                                               none                                              \n",
      "verbose                        : True                                               True                                              \n",
      "monitor                        : (not set)                                          True                                              \n",
      "submit                         : (not set)                                          True                                              \n",
      "collect                        : (not set)                                          True                                              \n",
      "\n",
      ">> Initializing:\n",
      "Initialized  Al static\n",
      "Initialized  Al static\n",
      "Initialized  Al atomic\n",
      "Initialized  Al total\n",
      "Initialized  Al eos_total\n",
      "\n",
      "4 jobs in JobList:\n",
      "------------------------------------------------------------------------------------------------------------------\n",
      "  #: jobpath                                                       prototype path                                              \n",
      "------------------------------------------------------------------------------------------------------------------\n",
      "  0: DUMMY/Al/static__fcc__Al                                      unaries/bulk/fcc.cfg                                        \n",
      "  1: DUMMY/Al/eos_total__fcc__Al                                   DUMMY/Al/total__fcc__Al/final.cfg                           \n",
      "  2: DUMMY/Al/total__fcc__Al                                       DUMMY/Al/atomic__fcc__Al/final.cfg                          \n",
      "  3: DUMMY/Al/atomic__fcc__Al                                      DUMMY/Al/static__fcc__Al/final.cfg                          \n",
      "\n",
      "  #: jobpath                                                      id       status   start                end                 \n",
      "------------------------------------------------------------------------------------------------------------------\n",
      "  0 DUMMY/Al/static__fcc__Al                                     None     does not exist                                          \n",
      "  1 DUMMY/Al/eos_total__fcc__Al                                  None     does not exist                                          \n",
      "  2 DUMMY/Al/total__fcc__Al                                      None     does not exist                                          \n",
      "  3 DUMMY/Al/atomic__fcc__Al                                     None     does not exist                                          \n",
      "\n",
      "\n",
      ">> Entering loop:\n",
      "Submitted: static__fcc__Al\n",
      "Submitted: atomic__fcc__Al\n",
      "  #: jobpath                                                      id       status   start                end                 \n",
      "------------------------------------------------------------------------------------------------------------------\n",
      "  0 DUMMY/Al/static__fcc__Al                                     None     finished                      06/22/2022 09:57    \n",
      "\n",
      "  1 DUMMY/Al/eos_total__fcc__Al                                  None     does not exist                                          \n",
      "\n",
      "  2 DUMMY/Al/total__fcc__Al                                      None     does not exist                                          \n",
      "\n",
      "  3 DUMMY/Al/atomic__fcc__Al                                     None     finished                      06/22/2022 09:57    \n",
      "\n",
      "\n",
      "Submitted: total__fcc__Al\n",
      "  #: jobpath                                                      id       status   start                end                 \n",
      "------------------------------------------------------------------------------------------------------------------\n",
      "  0 DUMMY/Al/static__fcc__Al                                     None     finished                      06/22/2022 09:57    \n",
      "\n",
      "  1 DUMMY/Al/eos_total__fcc__Al                                  None     does not exist                                          \n",
      "\n",
      "  2 DUMMY/Al/total__fcc__Al                                      None     finished                      06/22/2022 09:57    \n",
      "\n",
      "  3 DUMMY/Al/atomic__fcc__Al                                     None     finished                      06/22/2022 09:57    \n",
      "\n",
      "\n",
      "Submitted: eos_total__fcc__Al\n",
      "  #: jobpath                                                      id       status   start                end                 \n",
      "------------------------------------------------------------------------------------------------------------------\n",
      "  0 DUMMY/Al/static__fcc__Al                                     None     finished                      06/22/2022 09:57    \n",
      "\n",
      "  1 DUMMY/Al/eos_total__fcc__Al                                  None     finished                      06/22/2022 09:57    \n",
      "\n",
      "  2 DUMMY/Al/total__fcc__Al                                      None     finished                      06/22/2022 09:57    \n",
      "\n",
      "  3 DUMMY/Al/atomic__fcc__Al                                     None     finished                      06/22/2022 09:57    \n",
      "\n",
      "\n",
      "\n",
      "Finished.\n"
     ]
    },
    {
     "data": {
      "text/plain": [
       "<strucscan.core.jobmanager.JobManager at 0x7f106ae135f8>"
      ]
     },
     "execution_count": 16,
     "metadata": {},
     "output_type": "execute_result"
    }
   ],
   "source": [
    "from strucscan.core.jobmanager import JobManager\n",
    "\n",
    "JobManager(input_dict)"
   ]
  },
  {
   "cell_type": "code",
   "execution_count": null,
   "id": "imposed-compression",
   "metadata": {},
   "outputs": [],
   "source": []
  }
 ],
 "metadata": {
  "kernelspec": {
   "display_name": "Python 3",
   "language": "python",
   "name": "python3"
  },
  "language_info": {
   "codemirror_mode": {
    "name": "ipython",
    "version": 3
   },
   "file_extension": ".py",
   "mimetype": "text/x-python",
   "name": "python",
   "nbconvert_exporter": "python",
   "pygments_lexer": "ipython3",
   "version": "3.6.9"
  },
  "toc": {
   "base_numbering": 1,
   "nav_menu": {},
   "number_sections": true,
   "sideBar": true,
   "skip_h1_title": false,
   "title_cell": "Table of Contents",
   "title_sidebar": "Contents",
   "toc_cell": false,
   "toc_position": {},
   "toc_section_display": true,
   "toc_window_display": false
  }
 },
 "nbformat": 4,
 "nbformat_minor": 5
}
