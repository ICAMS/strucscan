{
 "cells": [
  {
   "cell_type": "code",
   "execution_count": 1,
   "id": "objective-washington",
   "metadata": {},
   "outputs": [
    {
     "name": "stdout",
     "output_type": "stream",
     "text": [
      "Populating the interactive namespace from numpy and matplotlib\n"
     ]
    }
   ],
   "source": [
    "%pylab inline"
   ]
  },
  {
   "cell_type": "markdown",
   "id": "careful-school",
   "metadata": {},
   "source": [
    "# VASP - Equation of State (EOS)\n",
    "## Running strucscan\n",
    "In this example, we want to introduce how to perform VASP calcultions using strucscan and perfom a Murnaghan equation of state calculation in fcc Al. This examples requires the two prerequisites:\n",
    "* a licensed VASP version\n",
    "* a configured resource directory including the neccessary POTCAR for Al\n",
    "\n",
    "In the documentation it is explained how to set up the resource directory for VASP. We will also need a settings template. For this, you can stick to the default one that comes with the repository. We will perform a spin-polarised calculation with an energy cut-off of 500 eV:"
   ]
  },
  {
   "cell_type": "code",
   "execution_count": 2,
   "id": "accomplished-chapel",
   "metadata": {},
   "outputs": [
    {
     "name": "stdout",
     "output_type": "stream",
     "text": [
      "! ISIF and IBRION flags will be set automatically by strucscan\r\n",
      "ALGO            = Fast\r\n",
      "PREC            = Accurate\r\n",
      "EDIFF           = 1e-05\r\n",
      "NSW             = 100\r\n",
      "NELM            = 60\r\n",
      "LREAL           = .FALSE.\r\n",
      "LWAVE           = .FALSE.\r\n",
      "ISPIN           = 2\r\n",
      "LCHARG          = .FALSE.\r\n",
      "LORBIT          = 11\r\n",
      "ENCUT           = 500\r\n"
     ]
    }
   ],
   "source": [
    "! cat ../resources/engines/vasp/settings/500_SP.incar"
   ]
  },
  {
   "cell_type": "markdown",
   "id": "dominant-harassment",
   "metadata": {},
   "source": [
    "## The structure\n",
    "For our calculation, we will use a 1-atom ideal fcc structure:"
   ]
  },
  {
   "cell_type": "code",
   "execution_count": 3,
   "id": "adverse-warehouse",
   "metadata": {},
   "outputs": [
    {
     "data": {
      "image/png": "[encoded data removed]",
      "text/plain": [
       "<Figure size 432x504 with 3 Axes>"
      ]
     },
     "metadata": {
      "needs_background": "light"
     },
     "output_type": "display_data"
    }
   ],
   "source": [
    "from ase.visualize.plot import plot_atoms\n",
    "from ase import io\n",
    "\n",
    "structname = \"../structures/unaries/bulk/fcc.cfg\"\n",
    "atoms = io.read(structname, format=\"cfg\")\n",
    "\n",
    "fig, axs = plt.subplots(1, 3, figsize=(6,7))\n",
    "for ind, rotation in enumerate(['90x,90y', '90x,45y', '0x']):\n",
    "    plot_atoms(atoms, rotation=(rotation), ax=axs[ind])\n",
    "plt.show()"
   ]
  },
  {
   "cell_type": "markdown",
   "id": "certain-forest",
   "metadata": {},
   "source": [
    "## The `input` dictionary\n",
    "As a next step we need to define our input dicitionary. Let's start from scratch with the mandatory keys needed for VASP:"
   ]
  },
  {
   "cell_type": "code",
   "execution_count": 4,
   "id": "grateful-wrong",
   "metadata": {},
   "outputs": [
    {
     "data": {
      "text/plain": [
       "{'species': 'str',\n",
       " 'engine': 'str',\n",
       " 'machine': 'str',\n",
       " 'ncores': 'str',\n",
       " 'nnodes': 'str',\n",
       " 'queuename': 'str',\n",
       " 'potential': 'str',\n",
       " 'properties': 'str',\n",
       " 'prototypes': 'str',\n",
       " 'settings': 'str',\n",
       " 'magnetic configuration': 'str',\n",
       " 'initial magnetic moments': 'str'}"
      ]
     },
     "execution_count": 4,
     "metadata": {},
     "output_type": "execute_result"
    }
   ],
   "source": [
    "from strucscan.resources.inputyaml import * \n",
    "VASP().MANDATORY"
   ]
  },
  {
   "cell_type": "markdown",
   "id": "healthy-exception",
   "metadata": {},
   "source": [
    "We need to set each value by ourself. We will set the `verbose` tag to `True` in order to have some more insight."
   ]
  },
  {
   "cell_type": "code",
   "execution_count": 5,
   "id": "mysterious-florence",
   "metadata": {},
   "outputs": [],
   "source": [
    "input_dict = {'species': 'Al',\n",
    "              'engine': 'VASP 5.4',\n",
    "              'machine': 'example_vasp',\n",
    "              'ncores': '1',\n",
    "              'nnodes': '1',\n",
    "              'queuename': 'none',\n",
    "              'potential': 'PBE',\n",
    "              'properties': 'EOS',\n",
    "              'prototypes': 'fcc.cfg',\n",
    "              'settings': '500_SP.incar',\n",
    "              'magnetic configuration': 'SP',\n",
    "              'initial magnetic moments': '2.0',\n",
    "              'verbose': True\n",
    "             }"
   ]
  },
  {
   "cell_type": "markdown",
   "id": "wrapped-convert",
   "metadata": {},
   "source": [
    "## Running strucscan\n",
    "We are now ready to run strucscan. Let's hand over our input to it:"
   ]
  },
  {
   "cell_type": "code",
   "execution_count": null,
   "id": "interested-moment",
   "metadata": {
    "scrolled": false
   },
   "outputs": [
    {
     "name": "stdout",
     "output_type": "stream",
     "text": [
      "Data tree path:                /home/users/pietki8q/git/Strucscan/data\n",
      "Structure repository:          /home/users/pietki8q/git/Strucscan/structures\n",
      "Resource repository:           /home/users/pietki8q/git/Strucscan/resources\n",
      "\n",
      "Optional key 'initial atvolume' not provided. Default value will be used: default\n",
      "Optional key 'monitor' not provided. Default value will be used: True\n",
      "Optional key 'submit' not provided. Default value will be used: True\n",
      "Optional key 'collect' not provided. Default value will be used: True\n",
      "Optional key 'kdens' not provided. Default value will be used: 0.15\n",
      "Optional key 'kmesh' not provided. Default value will be used: Monkhorst-pack\n",
      "Optional key 'k points file' not provided. Default value will be used: (None)\n",
      "\n",
      "\n",
      "key:                           : your input                                         what strucscan reads                              \n",
      "----------------------------------------------------------------------------------------------------\n",
      "species                        : Al                                                 Al                                                \n",
      "engine                         : VASP 5.4                                           VASP 5.4                                          \n",
      "machine                        : example_vasp                                       example_vasp                                      \n",
      "ncores                         : 1                                                  1                                                 \n",
      "nnodes                         : 1                                                  1                                                 \n",
      "queuename                      : none                                               none                                              \n",
      "potential                      : PBE                                                PBE                                               \n",
      "properties                     : EOS                                                EOS_atomic                                        \n",
      "prototypes                     : fcc.cfg                                            fcc.cfg                                           \n",
      "settings                       : 500_SP.incar                                       500_SP.incar                                      \n",
      "magnetic configuration         : SP                                                 SP                                                \n",
      "initial magnetic moments       : 2.0                                                2.0                                               \n",
      "verbose                        : True                                               True                                              \n",
      "initial atvolume               : (not set)                                          default                                           \n",
      "monitor                        : (not set)                                          True                                              \n",
      "submit                         : (not set)                                          True                                              \n",
      "collect                        : (not set)                                          True                                              \n",
      "kdens                          : (not set)                                          0.15                                              \n",
      "kmesh                          : (not set)                                          Monkhorst-pack                                    \n",
      "k points file                  : (not set)                                          (not set)                                         \n",
      "\n",
      ">> Initializing:\n",
      "Initialized  Al atomic\n",
      "Initialized  Al EOS_atomic\n",
      "\n",
      "2 jobs in JobList:\n",
      "------------------------------------------------------------------------------------------------------------------\n",
      "  #: jobpath                                                       prototype path                                              \n",
      "------------------------------------------------------------------------------------------------------------------\n",
      "  0: VASP_5_4__500_kdens_0_150_SP_PBE/Al/EOS_atomic__fcc__Al       VASP_5_4__500_kdens_0_150_SP_PBE/Al/atomic__fcc__Al/OUTCAR.gz\n",
      "  1: VASP_5_4__500_kdens_0_150_SP_PBE/Al/atomic__fcc__Al                                                                       \n",
      "\n",
      "  #: jobpath                                                      id       status   start                end                 \n",
      "------------------------------------------------------------------------------------------------------------------\n",
      "  0 VASP_5_4__500_kdens_0_150_SP_PBE/Al/EOS_atomic__fcc__Al      None     does not exist                                          \n",
      "  1 VASP_5_4__500_kdens_0_150_SP_PBE/Al/atomic__fcc__Al          None     does not exist                                          \n",
      "\n",
      "\n",
      ">> Entering loop:\n"
     ]
    }
   ],
   "source": [
    "from strucscan.core.jobmanager import JobManager\n",
    "\n",
    "JobManager(input_dict)"
   ]
  },
  {
   "cell_type": "code",
   "execution_count": null,
   "id": "soviet-former",
   "metadata": {},
   "outputs": [],
   "source": [
    "import json\n",
    "\n",
    "with open(\"../../VASP_5_4__500_kdens_0_150_SP_PBE__Al__output_dict.yaml\") as stream:\n",
    "    output_dict = json.load(stream)\n",
    "    stream.close()\n",
    "\n",
    "plt.plot(output_dict[\"EOS_atomic__fcc__Al\"][\"volume\"]['__ndarray__'][2], \n",
    "         output_dict[\"EOS_atomic__fcc__Al\"][\"energy\"]['__ndarray__'][2])\n",
    "plt.xlabel(\"Volume / $\\AA$\")\n",
    "plt.ylabel(\"Energy / $eV$\")\n",
    "plt.show()"
   ]
  }
 ],
 "metadata": {
  "kernelspec": {
   "display_name": "Python 3",
   "language": "python",
   "name": "python3"
  },
  "language_info": {
   "codemirror_mode": {
    "name": "ipython",
    "version": 3
   },
   "file_extension": ".py",
   "mimetype": "text/x-python",
   "name": "python",
   "nbconvert_exporter": "python",
   "pygments_lexer": "ipython3",
   "version": "3.6.9"
  },
  "toc": {
   "base_numbering": 1,
   "nav_menu": {},
   "number_sections": true,
   "sideBar": true,
   "skip_h1_title": false,
   "title_cell": "Table of Contents",
   "title_sidebar": "Contents",
   "toc_cell": false,
   "toc_position": {},
   "toc_section_display": true,
   "toc_window_display": false
  }
 },
 "nbformat": 4,
 "nbformat_minor": 5
}
